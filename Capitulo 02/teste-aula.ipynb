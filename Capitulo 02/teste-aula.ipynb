{
 "cells": [
  {
   "cell_type": "markdown",
   "id": "44b6b164",
   "metadata": {},
   "source": [
    "Gere um código em python que crie uma lista com os números entre 1 a 100 e então imprima os numeros pares, mas somente se o número for divisível por 4"
   ]
  },
  {
   "cell_type": "code",
   "execution_count": 2,
   "id": "b06b30df",
   "metadata": {},
   "outputs": [
    {
     "name": "stdout",
     "output_type": "stream",
     "text": [
      "4\n",
      "8\n",
      "12\n",
      "16\n",
      "20\n",
      "24\n",
      "28\n",
      "32\n",
      "36\n",
      "40\n",
      "44\n",
      "48\n",
      "52\n",
      "56\n",
      "60\n",
      "64\n",
      "68\n",
      "72\n",
      "76\n",
      "80\n",
      "84\n",
      "88\n",
      "92\n",
      "96\n",
      "100\n"
     ]
    }
   ],
   "source": [
    "# Crie uma lista de números de 1 a 100\n",
    "numeros = list(range(1, 101))\n",
    "\n",
    "# Imprima os números encontrados\n",
    "for num in numeros:\n",
    "    if num % 2 == 0 and num % 4 == 0: # Verifica se o numero é par e divisível por 4\n",
    "        print(num)\n"
   ]
  },
  {
   "cell_type": "code",
   "execution_count": 5,
   "id": "2487b016",
   "metadata": {},
   "outputs": [
    {
     "name": "stdout",
     "output_type": "stream",
     "text": [
      "[4, 8, 12, 16, 20, 24, 28, 32, 36, 40, 44, 48, 52, 56, 60, 64, 68, 72, 76, 80, 84, 88, 92, 96, 100]\n"
     ]
    }
   ],
   "source": [
    "# Crie uma lista de números de 1 a 100\n",
    "numeros = list(range(1, 101))\n",
    "\n",
    "# Use uma compreensão de lista para filtrar os números pares divisíveis por 4\n",
    "pares_div4 = [num for num in numeros if num % 2 == 0 and num % 4 == 0]\n",
    "\n",
    "print(pares_div4)\n"
   ]
  },
  {
   "cell_type": "code",
   "execution_count": null,
   "id": "00ac424b",
   "metadata": {},
   "outputs": [],
   "source": []
  }
 ],
 "metadata": {
  "kernelspec": {
   "display_name": "Python 3 (ipykernel)",
   "language": "python",
   "name": "python3"
  },
  "language_info": {
   "codemirror_mode": {
    "name": "ipython",
    "version": 3
   },
   "file_extension": ".py",
   "mimetype": "text/x-python",
   "name": "python",
   "nbconvert_exporter": "python",
   "pygments_lexer": "ipython3",
   "version": "3.11.5"
  }
 },
 "nbformat": 4,
 "nbformat_minor": 5
}
