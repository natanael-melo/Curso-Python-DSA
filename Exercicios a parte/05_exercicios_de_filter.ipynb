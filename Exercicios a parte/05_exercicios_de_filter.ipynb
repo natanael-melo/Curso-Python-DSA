{
 "cells": [
  {
   "cell_type": "markdown",
   "id": "32ee118d",
   "metadata": {},
   "source": [
    "# Exercicios de *FILTER*"
   ]
  },
  {
   "cell_type": "markdown",
   "id": "a4d463e6",
   "metadata": {},
   "source": [
    "- #1 Use filter para encontrar todos os números pares em uma lista.\n",
    "- #2 Use filter para encontrar todas as palavras que começam com a letra 'A' em uma lista de strings.\n",
    "- #3 Utilize filter para encontrar todos os números primos em uma lista.\n",
    "- #4 Use filter para encontrar todos os múltiplos de 5 em uma lista de números.\n",
    "- #5 Use filter para encontrar todas as strings que têm mais de 5 caracteres em uma lista de strings.\n",
    "- #6 Utilize filter para encontrar todos os números negativos em uma lista.\n",
    "- #7 Use filter para encontrar todos os elementos maiores que 10 em uma lista de números.\n",
    "- #8 Utilize filter para encontrar todos os elementos que não são strings em uma lista mista.\n",
    "- #9 Use filter para encontrar todas as strings que contêm a letra 'o' em uma lista de strings.\n",
    "- #10 Use filter para encontrar todas as datas válidas em uma lista de strings."
   ]
  },
  {
   "cell_type": "code",
   "execution_count": 1,
   "id": "f6cd97b9",
   "metadata": {},
   "outputs": [
    {
     "data": {
      "text/plain": [
       "[2, 4, 6, 8, 10]"
      ]
     },
     "execution_count": 1,
     "metadata": {},
     "output_type": "execute_result"
    }
   ],
   "source": [
    "#1 Use filter para encontrar todos os números pares em uma lista.\n",
    "condicao = lambda x: x % 2 == 0\n",
    "\n",
    "lista = [x for x in range(1,11)]\n",
    " \n",
    "r = list(filter(condicao, lista))\n",
    "r"
   ]
  },
  {
   "cell_type": "code",
   "execution_count": 2,
   "id": "4406ce60",
   "metadata": {},
   "outputs": [
    {
     "data": {
      "text/plain": [
       "['amora', 'abacaxi']"
      ]
     },
     "execution_count": 2,
     "metadata": {},
     "output_type": "execute_result"
    }
   ],
   "source": [
    "#2 Use filter para encontrar todas as palavras que começam com a letra 'A' em uma lista de strings.\n",
    "condicao = lambda x: x[0].upper() == 'A'\n",
    "\n",
    "lista = ['amora', 'maça', 'abacaxi', 'melancia', 'uva']\n",
    "\n",
    "r = list(filter(condicao, lista))\n",
    "r"
   ]
  },
  {
   "cell_type": "code",
   "execution_count": 3,
   "id": "6af3076d",
   "metadata": {},
   "outputs": [
    {
     "data": {
      "text/plain": [
       "[2, 3, 5, 7, 11, 13, 17, 19, 23, 29]"
      ]
     },
     "execution_count": 3,
     "metadata": {},
     "output_type": "execute_result"
    }
   ],
   "source": [
    "#3 Utilize filter para encontrar todos os números primos em uma lista.\n",
    "def eh_primo(numero):\n",
    "    if numero < 2:\n",
    "        return False\n",
    "    for i in range(2, numero):\n",
    "        if numero % i == 0:\n",
    "            return False\n",
    "    return True\n",
    "\n",
    "lista = [x for x in range(1,31)]\n",
    "\n",
    "r = list(filter(eh_primo, lista))\n",
    "r"
   ]
  },
  {
   "cell_type": "code",
   "execution_count": 4,
   "id": "b28b5a39",
   "metadata": {},
   "outputs": [
    {
     "data": {
      "text/plain": [
       "[5, 10, 15, 20, 25, 30, 35, 40, 45, 50]"
      ]
     },
     "execution_count": 4,
     "metadata": {},
     "output_type": "execute_result"
    }
   ],
   "source": [
    "#4 Use filter para encontrar todos os múltiplos de 5 em uma lista de números.\n",
    "condicao = lambda x: x % 5 == 0\n",
    "\n",
    "lista = [x for x in range(1,51)]\n",
    " \n",
    "r = list(filter(condicao, lista))\n",
    "r"
   ]
  },
  {
   "cell_type": "code",
   "execution_count": 6,
   "id": "f90620a4",
   "metadata": {},
   "outputs": [
    {
     "data": {
      "text/plain": [
       "['amora', 'abacaxi', 'melancia']"
      ]
     },
     "execution_count": 6,
     "metadata": {},
     "output_type": "execute_result"
    }
   ],
   "source": [
    "#5 Use filter para encontrar todas as strings que têm mais de 5 caracteres em uma lista de strings.\n",
    "condicao = lambda x: len(x) >= 5\n",
    "\n",
    "lista = ['amora', 'maça', 'abacaxi', 'melancia', 'uva']\n",
    " \n",
    "r = list(filter(condicao, lista))\n",
    "r"
   ]
  },
  {
   "cell_type": "code",
   "execution_count": 8,
   "id": "29cd70f3",
   "metadata": {},
   "outputs": [
    {
     "data": {
      "text/plain": [
       "[-2, -7, -8, -4]"
      ]
     },
     "execution_count": 8,
     "metadata": {},
     "output_type": "execute_result"
    }
   ],
   "source": [
    "#6 Utilize filter para encontrar todos os números negativos em uma lista.\n",
    "condicao = lambda x: x <= 0\n",
    "\n",
    "lista = [5, -2, 9, -7, 1, -8, 6, 3, -4]\n",
    " \n",
    "r = list(filter(condicao, lista))\n",
    "r"
   ]
  },
  {
   "cell_type": "code",
   "execution_count": 9,
   "id": "ce5fd301",
   "metadata": {},
   "outputs": [
    {
     "data": {
      "text/plain": [
       "[15, 12, 20, 25]"
      ]
     },
     "execution_count": 9,
     "metadata": {},
     "output_type": "execute_result"
    }
   ],
   "source": [
    "#7 Use filter para encontrar todos os elementos maiores que 10 em uma lista de números.\n",
    "condicao = lambda x: x > 10\n",
    "\n",
    "lista = [8, 15, 3, 12, 20, 7, 25]\n",
    " \n",
    "r = list(filter(condicao, lista))\n",
    "r"
   ]
  },
  {
   "cell_type": "code",
   "execution_count": 10,
   "id": "cf10ae76",
   "metadata": {},
   "outputs": [
    {
     "data": {
      "text/plain": [
       "[10, 5.5, True, 7]"
      ]
     },
     "execution_count": 10,
     "metadata": {},
     "output_type": "execute_result"
    }
   ],
   "source": [
    "#8 Utilize filter para encontrar todos os elementos que não são strings em uma lista mista.\n",
    "condicao = lambda x: not isinstance(x, str)\n",
    "\n",
    "lista = [10, \"python\", 5.5, \"java\", True, 7, \"c++\"]\n",
    " \n",
    "r = list(filter(condicao, lista))\n",
    "r"
   ]
  },
  {
   "cell_type": "code",
   "execution_count": 11,
   "id": "0e46b6fd",
   "metadata": {},
   "outputs": [
    {
     "data": {
      "text/plain": [
       "['trampolim', 'risonho', 'chuveiro']"
      ]
     },
     "execution_count": 11,
     "metadata": {},
     "output_type": "execute_result"
    }
   ],
   "source": [
    "#9 Use filter para encontrar todas as strings que contêm a letra 'o' em uma lista de strings.\n",
    "condicao = lambda x: 'o' in x\n",
    "\n",
    "lista = ['cafajeste', 'trampolim', 'academia', 'risonho', 'chuveiro']\n",
    " \n",
    "r = list(filter(condicao, lista))\n",
    "r"
   ]
  },
  {
   "cell_type": "code",
   "execution_count": 14,
   "id": "cf86b480",
   "metadata": {},
   "outputs": [
    {
     "data": {
      "text/plain": [
       "['2023-11-26', '2023-12-01']"
      ]
     },
     "execution_count": 14,
     "metadata": {},
     "output_type": "execute_result"
    }
   ],
   "source": [
    "#10 Use filter para encontrar todas as datas válidas em uma lista de strings.\n",
    "from datetime import datetime\n",
    "\n",
    "def valida_data(data):\n",
    "    try:\n",
    "        datetime.strptime(data, '%Y-%m-%d')\n",
    "        return True\n",
    "    except ValueError:\n",
    "        return False\n",
    "\n",
    "lista = ['2023-11-26', '2023-12-01', 'invalida', '2023-13-01']\n",
    "\n",
    "r = list(filter(is_valid_date, lista))\n",
    "r"
   ]
  }
 ],
 "metadata": {
  "kernelspec": {
   "display_name": "Python 3 (ipykernel)",
   "language": "python",
   "name": "python3"
  },
  "language_info": {
   "codemirror_mode": {
    "name": "ipython",
    "version": 3
   },
   "file_extension": ".py",
   "mimetype": "text/x-python",
   "name": "python",
   "nbconvert_exporter": "python",
   "pygments_lexer": "ipython3",
   "version": "3.11.5"
  }
 },
 "nbformat": 4,
 "nbformat_minor": 5
}
