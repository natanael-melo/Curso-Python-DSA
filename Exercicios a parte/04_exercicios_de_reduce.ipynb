{
 "cells": [
  {
   "cell_type": "markdown",
   "id": "5b9f1679",
   "metadata": {},
   "source": [
    "# Exercicios de *REDUCE*"
   ]
  },
  {
   "cell_type": "markdown",
   "id": "33bf372b",
   "metadata": {},
   "source": [
    "- #1 Use reduce para encontrar o produto de todos os elementos em uma lista.\n",
    "- #2 Use reduce para encontrar o máximo de uma lista de números.\n",
    "- #3 Utilize reduce para concatenar todas as strings em uma lista.\n",
    "- #4 Use reduce para encontrar a média de uma lista de números.\n",
    "- #5 Use reduce para encontrar o mínimo de uma lista de números.\n",
    "- #6 Utilize reduce para encontrar o maior número primo em uma lista.\n",
    "- #7 Use reduce para calcular a soma dos quadrados de uma lista de números.\n",
    "- #8 Utilize reduce para encontrar o GCD (Máximo Divisor Comum) de uma lista de números.\n",
    "- #9 Use reduce para multiplicar todos os elementos pares em uma lista.\n",
    "- #10 Use reduce para contar quantas vezes uma palavra específica aparece em uma lista de strings."
   ]
  },
  {
   "cell_type": "code",
   "execution_count": 2,
   "id": "88d7ebcd",
   "metadata": {},
   "outputs": [
    {
     "data": {
      "text/plain": [
       "120"
      ]
     },
     "execution_count": 2,
     "metadata": {},
     "output_type": "execute_result"
    }
   ],
   "source": [
    "#1 Use reduce para encontrar o produto de todos os elementos em uma lista.\n",
    "from functools import reduce\n",
    "\n",
    "funcao = lambda x,y: x*y\n",
    "\n",
    "lista = [1, 2, 3, 4, 5]\n",
    " \n",
    "r = reduce(funcao, lista)\n",
    "r"
   ]
  },
  {
   "cell_type": "code",
   "execution_count": 4,
   "id": "d5e1e962",
   "metadata": {},
   "outputs": [
    {
     "data": {
      "text/plain": [
       "58"
      ]
     },
     "execution_count": 4,
     "metadata": {},
     "output_type": "execute_result"
    }
   ],
   "source": [
    "#2 Use reduce para encontrar o máximo de uma lista de números.\n",
    "funcao = lambda x,y: x if x > y else y\n",
    "\n",
    "lista = [17, 49, 58, 26, 31]\n",
    " \n",
    "r = reduce(funcao, lista)\n",
    "r"
   ]
  },
  {
   "cell_type": "code",
   "execution_count": 5,
   "id": "26102604",
   "metadata": {},
   "outputs": [
    {
     "data": {
      "text/plain": [
       "'natan e talita e juno e kelly'"
      ]
     },
     "execution_count": 5,
     "metadata": {},
     "output_type": "execute_result"
    }
   ],
   "source": [
    "#3 Utilize reduce para concatenar todas as strings em uma lista.\n",
    "funcao = lambda x,y: x + ' e ' + y\n",
    "lista = ['natan', 'talita', 'juno', 'kelly']\n",
    " \n",
    "r = reduce(funcao, lista)\n",
    "r"
   ]
  },
  {
   "cell_type": "code",
   "execution_count": 6,
   "id": "b655124a",
   "metadata": {},
   "outputs": [
    {
     "data": {
      "text/plain": [
       "36.2"
      ]
     },
     "execution_count": 6,
     "metadata": {},
     "output_type": "execute_result"
    }
   ],
   "source": [
    "#4 Use reduce para encontrar a média de uma lista de números.\n",
    "funcao = lambda x,y: x + y\n",
    "\n",
    "lista = [17, 49, 58, 26, 31]\n",
    " \n",
    "r = reduce(funcao, lista)/len(lista)\n",
    "r"
   ]
  },
  {
   "cell_type": "code",
   "execution_count": 7,
   "id": "f724ddfa",
   "metadata": {},
   "outputs": [
    {
     "data": {
      "text/plain": [
       "17"
      ]
     },
     "execution_count": 7,
     "metadata": {},
     "output_type": "execute_result"
    }
   ],
   "source": [
    "#5 Use reduce para encontrar o mínimo de uma lista de números.\n",
    "funcao = lambda x,y: x if x < y else y\n",
    "\n",
    "lista = [17, 49, 58, 26, 31]\n",
    " \n",
    "r = reduce(funcao, lista)\n",
    "r"
   ]
  },
  {
   "cell_type": "code",
   "execution_count": 8,
   "id": "76adb374",
   "metadata": {},
   "outputs": [
    {
     "data": {
      "text/plain": [
       "83"
      ]
     },
     "execution_count": 8,
     "metadata": {},
     "output_type": "execute_result"
    }
   ],
   "source": [
    "#6 Utilize reduce para encontrar o maior número primo em uma lista.\n",
    "def eh_primo(numero):\n",
    "    if numero < 2:\n",
    "        return False\n",
    "    for i in range(2, int(numero**0.5) + 1):\n",
    "        if numero % i == 0:\n",
    "            return False\n",
    "    return True\n",
    "\n",
    "def maior_primo_entre_dois(x, y):\n",
    "    if eh_primo(x) and not eh_primo(y):\n",
    "        return x\n",
    "    elif eh_primo(y) and not eh_primo(x):\n",
    "        return y\n",
    "    else:\n",
    "        return max(x, y)\n",
    "\n",
    "lista_de_numeros = [23, 8, 15, 7, 42, 11, 5, 20, 13, 25, 50, 83]\n",
    "\n",
    "maior_primo = reduce(maior_primo_entre_dois, lista_de_numeros)\n",
    "maior_primo"
   ]
  },
  {
   "cell_type": "code",
   "execution_count": 9,
   "id": "4cef5c90",
   "metadata": {},
   "outputs": [
    {
     "data": {
      "text/plain": [
       "55"
      ]
     },
     "execution_count": 9,
     "metadata": {},
     "output_type": "execute_result"
    }
   ],
   "source": [
    "#7 Use reduce para calcular a soma dos quadrados de uma lista de números.\n",
    "funcao = lambda x,y: x + y**2\n",
    "\n",
    "lista = [1, 2, 3, 4, 5]\n",
    " \n",
    "r = reduce(funcao, lista)\n",
    "r"
   ]
  },
  {
   "cell_type": "code",
   "execution_count": 10,
   "id": "042113a2",
   "metadata": {},
   "outputs": [
    {
     "data": {
      "text/plain": [
       "2"
      ]
     },
     "execution_count": 10,
     "metadata": {},
     "output_type": "execute_result"
    }
   ],
   "source": [
    "#8 Utilize reduce para encontrar o GCD (Máximo Divisor Comum) de uma lista de números.\n",
    "from math import gcd\n",
    "\n",
    "lista = [2, 4, 6, 8, 12]\n",
    " \n",
    "r = reduce(gcd, lista)\n",
    "r"
   ]
  },
  {
   "cell_type": "code",
   "execution_count": 11,
   "id": "a6a320a2",
   "metadata": {},
   "outputs": [
    {
     "data": {
      "text/plain": [
       "8"
      ]
     },
     "execution_count": 11,
     "metadata": {},
     "output_type": "execute_result"
    }
   ],
   "source": [
    "#9 Use reduce para multiplicar todos os elementos pares em uma lista.\n",
    "funcao = lambda x,y: x * y if y % 2 == 0 else x\n",
    "\n",
    "lista = [1, 2, 3, 4, 5]\n",
    " \n",
    "r = reduce(funcao, lista)\n",
    "r"
   ]
  },
  {
   "cell_type": "code",
   "execution_count": 12,
   "id": "c597d9d7",
   "metadata": {},
   "outputs": [
    {
     "data": {
      "text/plain": [
       "3"
      ]
     },
     "execution_count": 12,
     "metadata": {},
     "output_type": "execute_result"
    }
   ],
   "source": [
    "#10 Use reduce para contar quantas vezes uma palavra específica aparece em uma lista de strings.\n",
    "funcao = lambda x, y: x + 1 if y == palavra_alvo else x\n",
    "\n",
    "palavras = [\"python\", \"é\", \"uma\", \"linguagem\", \"python\", \"de\", \"programação\", \"python\"]\n",
    "palavra_alvo = \"python\"\n",
    " \n",
    "r = reduce(funcao, palavras, 0)\n",
    "r"
   ]
  },
  {
   "cell_type": "code",
   "execution_count": null,
   "id": "0a629658",
   "metadata": {},
   "outputs": [],
   "source": []
  }
 ],
 "metadata": {
  "kernelspec": {
   "display_name": "Python 3 (ipykernel)",
   "language": "python",
   "name": "python3"
  },
  "language_info": {
   "codemirror_mode": {
    "name": "ipython",
    "version": 3
   },
   "file_extension": ".py",
   "mimetype": "text/x-python",
   "name": "python",
   "nbconvert_exporter": "python",
   "pygments_lexer": "ipython3",
   "version": "3.11.5"
  }
 },
 "nbformat": 4,
 "nbformat_minor": 5
}
