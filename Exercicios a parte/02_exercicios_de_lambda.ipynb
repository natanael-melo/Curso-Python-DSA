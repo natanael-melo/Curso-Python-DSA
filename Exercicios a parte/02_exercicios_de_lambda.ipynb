{
 "cells": [
  {
   "cell_type": "markdown",
   "id": "8777729a",
   "metadata": {},
   "source": [
    "# Exercicios de LAMBDA"
   ]
  },
  {
   "cell_type": "markdown",
   "id": "2a4b0fa1",
   "metadata": {},
   "source": [
    "- #1 Escreva uma função lambda que eleve um número ao quadrado.\n",
    "- #2 Crie uma função lambda que retorne o inverso de um número.\n",
    "- #3 Implemente uma função lambda que multiplique dois números.\n",
    "- #4 Escreva uma função lambda que retorne o maior de dois números.\n",
    "- #5 Crie uma função lambda que verifique se um número é par.\n",
    "- #6 Implemente uma função lambda que calcule o cubo de um número.\n",
    "- #7 Escreva uma função lambda que verifique se uma string começa com uma letra maiúscula.\n",
    "- #8 Crie uma função lambda que converta uma temperatura de Celsius para Fahrenheit.\n",
    "- #9 Implemente uma função lambda que calcule o módulo de um número.\n",
    "- #10 Escreva uma função lambda que retorne o valor absoluto de um número."
   ]
  },
  {
   "cell_type": "code",
   "execution_count": 1,
   "id": "1356db70",
   "metadata": {},
   "outputs": [
    {
     "data": {
      "text/plain": [
       "4"
      ]
     },
     "execution_count": 1,
     "metadata": {},
     "output_type": "execute_result"
    }
   ],
   "source": [
    "#1 Escreva uma função lambda que eleve um número ao quadrado.\n",
    "ao_2 = lambda x: x**2\n",
    "\n",
    "ao_2(2)"
   ]
  },
  {
   "cell_type": "code",
   "execution_count": 7,
   "id": "822739a1",
   "metadata": {},
   "outputs": [
    {
     "data": {
      "text/plain": [
       "1.0"
      ]
     },
     "execution_count": 7,
     "metadata": {},
     "output_type": "execute_result"
    }
   ],
   "source": [
    "#2 Crie uma função lambda que retorne o inverso de um número.\n",
    "inverso = lambda x: 1/x\n",
    "\n",
    "5*inverso(5)"
   ]
  },
  {
   "cell_type": "code",
   "execution_count": 8,
   "id": "fea3862d",
   "metadata": {},
   "outputs": [
    {
     "data": {
      "text/plain": [
       "25"
      ]
     },
     "execution_count": 8,
     "metadata": {},
     "output_type": "execute_result"
    }
   ],
   "source": [
    "#3 Implemente uma função lambda que multiplique dois números.\n",
    "multiplica = lambda x,y: x*y\n",
    "\n",
    "multiplica(5,5)"
   ]
  },
  {
   "cell_type": "code",
   "execution_count": 9,
   "id": "35960671",
   "metadata": {},
   "outputs": [
    {
     "name": "stdout",
     "output_type": "stream",
     "text": [
      "9\n",
      "8\n"
     ]
    }
   ],
   "source": [
    "#4 Escreva uma função lambda que retorne o maior de dois números.\n",
    "maior = lambda x,y: x if x > y else y\n",
    "\n",
    "print(maior(5,9))\n",
    "print(maior(8,2))"
   ]
  },
  {
   "cell_type": "code",
   "execution_count": 11,
   "id": "3c76c9c2",
   "metadata": {},
   "outputs": [
    {
     "name": "stdout",
     "output_type": "stream",
     "text": [
      "É par\n",
      "Não é par\n"
     ]
    }
   ],
   "source": [
    "#5 Crie uma função lambda que verifique se um número é par.\n",
    "par = lambda x: 'É par' if (x % 2) == 0 else 'Não é par'\n",
    "\n",
    "print(par(8))\n",
    "print(par(3))"
   ]
  },
  {
   "cell_type": "code",
   "execution_count": 12,
   "id": "c9341e7d",
   "metadata": {},
   "outputs": [
    {
     "data": {
      "text/plain": [
       "27"
      ]
     },
     "execution_count": 12,
     "metadata": {},
     "output_type": "execute_result"
    }
   ],
   "source": [
    "#6 Implemente uma função lambda que calcule o cubo de um número.\n",
    "ao_3 = lambda x: x**3\n",
    "\n",
    "ao_3(3)"
   ]
  },
  {
   "cell_type": "code",
   "execution_count": 15,
   "id": "e82c56a2",
   "metadata": {},
   "outputs": [
    {
     "name": "stdout",
     "output_type": "stream",
     "text": [
      "É maiuscula\n",
      "Não é maiuscula\n"
     ]
    }
   ],
   "source": [
    "#7 Escreva uma função lambda que verifique se uma string começa com uma letra maiúscula.\n",
    "primeira_letra_eh_maiuscula = lambda s: 'É maiuscula' if s[0].isupper() else 'Não é maiuscula'\n",
    "\n",
    "print(primeira_letra_eh_maiuscula('Natan'))\n",
    "print(primeira_letra_eh_maiuscula('natan'))"
   ]
  },
  {
   "cell_type": "code",
   "execution_count": 19,
   "id": "9860ab93",
   "metadata": {},
   "outputs": [
    {
     "name": "stdout",
     "output_type": "stream",
     "text": [
      "32.0\n",
      "98.6\n"
     ]
    }
   ],
   "source": [
    "#8 Crie uma função lambda que converta uma temperatura de Celsius para Fahrenheit.\n",
    "c_f = lambda x: (x * 9/5) + 32\n",
    "\n",
    "print(c_f(0))\n",
    "print(c_f(37))"
   ]
  },
  {
   "cell_type": "code",
   "execution_count": 29,
   "id": "8117d154",
   "metadata": {},
   "outputs": [
    {
     "data": {
      "text/plain": [
       "5"
      ]
     },
     "execution_count": 29,
     "metadata": {},
     "output_type": "execute_result"
    }
   ],
   "source": [
    "#9 Implemente uma função lambda que calcule o módulo de um número.\n",
    "modulo = lambda x: x if x >= 0 else -x\n",
    "\n",
    "modulo(-5)"
   ]
  },
  {
   "cell_type": "code",
   "execution_count": 30,
   "id": "2e2f1d18",
   "metadata": {},
   "outputs": [
    {
     "data": {
      "text/plain": [
       "3.14"
      ]
     },
     "execution_count": 30,
     "metadata": {},
     "output_type": "execute_result"
    }
   ],
   "source": [
    "#10 Escreva uma função lambda que retorne o valor absoluto de um número.\n",
    "absoluto = lambda x: abs(x)\n",
    "\n",
    "absoluto(-3.14)"
   ]
  }
 ],
 "metadata": {
  "kernelspec": {
   "display_name": "Python 3 (ipykernel)",
   "language": "python",
   "name": "python3"
  },
  "language_info": {
   "codemirror_mode": {
    "name": "ipython",
    "version": 3
   },
   "file_extension": ".py",
   "mimetype": "text/x-python",
   "name": "python",
   "nbconvert_exporter": "python",
   "pygments_lexer": "ipython3",
   "version": "3.11.5"
  }
 },
 "nbformat": 4,
 "nbformat_minor": 5
}
