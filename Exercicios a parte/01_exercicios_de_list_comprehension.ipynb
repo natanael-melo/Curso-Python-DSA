{
 "cells": [
  {
   "cell_type": "markdown",
   "id": "6603e849",
   "metadata": {},
   "source": [
    "# Exercicios de *LIST COMPREHENSION*"
   ]
  },
  {
   "cell_type": "markdown",
   "id": "97096705",
   "metadata": {},
   "source": [
    "- #1 Use list comprehension para criar uma lista com os quadrados dos números de 1 a 10\n",
    "- #2 Use list comprehension para criar uma lista com os números pares de 1 a 20\n",
    "- #3 Use list comprehension para criar uma lista com os múltiplos de 3 de 1 a 30\n",
    "- #4 Use list comprehension para criar uma lista com as letras maiúsculas de uma string\n",
    "- #5 Use list comprehension para criar uma lista com os números de 1 a 100 que são divisíveis por 5 e 7\n",
    "- #6 Use list comprehension para criar uma lista com os números primos de 1 a 50\n",
    "- #7 Use list comprehension para criar uma lista com as palavras de uma frase com mais de 5 letras\n",
    "- #8 Use list comprehension para criar uma lista com os números pares elevados ao quadrado de 1 a 10\n",
    "- #9 Use list comprehension para criar uma lista com os números de 1 a 100 excluindo os múltiplos de 3 e 5\n",
    "- #10 Use list comprehension para criar uma lista com os números de 1 a 20 elevados à quarta potência"
   ]
  },
  {
   "cell_type": "code",
   "execution_count": 4,
   "id": "3d699ba2",
   "metadata": {},
   "outputs": [
    {
     "data": {
      "text/plain": [
       "[1, 4, 9, 16, 25, 36, 49, 64, 81, 100]"
      ]
     },
     "execution_count": 4,
     "metadata": {},
     "output_type": "execute_result"
    }
   ],
   "source": [
    "#1 Use list comprehension para criar uma lista com os quadrados dos números de 1 a 10\n",
    "quadrados = [x**2 for x in range(1,11)]\n",
    "quadrados"
   ]
  },
  {
   "cell_type": "code",
   "execution_count": 5,
   "id": "6d55d258",
   "metadata": {},
   "outputs": [
    {
     "data": {
      "text/plain": [
       "[2, 4, 6, 8, 10, 12, 14, 16, 18, 20]"
      ]
     },
     "execution_count": 5,
     "metadata": {},
     "output_type": "execute_result"
    }
   ],
   "source": [
    "#2 Use list comprehension para criar uma lista com os números pares de 1 a 20\n",
    "pares = [x for x in range(1,21) if x % 2 == 0]\n",
    "pares"
   ]
  },
  {
   "cell_type": "code",
   "execution_count": 7,
   "id": "a1cd653c",
   "metadata": {},
   "outputs": [
    {
     "data": {
      "text/plain": [
       "[3, 6, 9, 12, 15, 18, 21, 24, 27, 30]"
      ]
     },
     "execution_count": 7,
     "metadata": {},
     "output_type": "execute_result"
    }
   ],
   "source": [
    "#3 Use list comprehension para criar uma lista com os múltiplos de 3 de 1 a 30\n",
    "multiplos_3 = [x for x in range(1,31) if x % 3 == 0]\n",
    "multiplos_3"
   ]
  },
  {
   "cell_type": "code",
   "execution_count": 10,
   "id": "706ad00d",
   "metadata": {},
   "outputs": [
    {
     "data": {
      "text/plain": [
       "['AMORA', 'MAÇA', 'ABACAXI', 'MELANCIA', 'UVA']"
      ]
     },
     "execution_count": 10,
     "metadata": {},
     "output_type": "execute_result"
    }
   ],
   "source": [
    "#4 Use list comprehension para criar uma lista com as letras maiúsculas de uma string\n",
    "lista = ['amora', 'maça', 'abacaxi', 'melancia', 'uva']\n",
    "\n",
    "maiusculas = [x.upper() for x in lista]\n",
    "maiusculas"
   ]
  },
  {
   "cell_type": "code",
   "execution_count": 12,
   "id": "dd6a8b53",
   "metadata": {},
   "outputs": [
    {
     "data": {
      "text/plain": [
       "[35, 70]"
      ]
     },
     "execution_count": 12,
     "metadata": {},
     "output_type": "execute_result"
    }
   ],
   "source": [
    "#5 Use list comprehension para criar uma lista com os números de 1 a 100 que são divisíveis por 5 e 7\n",
    "divisiveis_5_e_7 = [x for x in range(1,101) if (x % 5 == 0) and (x % 7 == 0)]\n",
    "divisiveis_5_e_7"
   ]
  },
  {
   "cell_type": "code",
   "execution_count": 14,
   "id": "7524fe81",
   "metadata": {},
   "outputs": [
    {
     "data": {
      "text/plain": [
       "[2, 3, 5, 7, 11, 13, 17, 19, 23, 29, 31, 37, 41, 43, 47]"
      ]
     },
     "execution_count": 14,
     "metadata": {},
     "output_type": "execute_result"
    }
   ],
   "source": [
    "#6 Use list comprehension para criar uma lista com os números primos de 1 a 50\n",
    "def eh_primo(numero):\n",
    "    if numero < 2:\n",
    "        return False\n",
    "    for i in range(2, numero):\n",
    "        if numero % i == 0:\n",
    "            return False\n",
    "    return True\n",
    "\n",
    "primos = [x for x in range(1,51) if eh_primo(x)]\n",
    "primos"
   ]
  },
  {
   "cell_type": "code",
   "execution_count": 20,
   "id": "c855b13c",
   "metadata": {},
   "outputs": [
    {
     "data": {
      "text/plain": [
       "['cheia', 'surpresas,', 'aleatorio', 'delas']"
      ]
     },
     "execution_count": 20,
     "metadata": {},
     "output_type": "execute_result"
    }
   ],
   "source": [
    "#7 Use list comprehension para criar uma lista com as palavras de uma frase com mais de 5 letras\n",
    "frase = 'Em uma vida cheia de surpresas, o aleatorio é dona de cada uma delas'\n",
    "\n",
    "_5_letras = [x for x in frase.split() if len(x) >=5 ]\n",
    "_5_letras"
   ]
  },
  {
   "cell_type": "code",
   "execution_count": 17,
   "id": "41655017",
   "metadata": {},
   "outputs": [
    {
     "data": {
      "text/plain": [
       "[4, 16, 36, 64, 100]"
      ]
     },
     "execution_count": 17,
     "metadata": {},
     "output_type": "execute_result"
    }
   ],
   "source": [
    "#8 Use list comprehension para criar uma lista com os números pares elevados ao quadrado de 1 a 10\n",
    "pares_ao_quadrado = [x**2 for x in range(1,11) if x % 2 == 0]\n",
    "pares_ao_quadrado"
   ]
  },
  {
   "cell_type": "code",
   "execution_count": 19,
   "id": "b1152f6f",
   "metadata": {},
   "outputs": [
    {
     "data": {
      "text/plain": [
       "[1,\n",
       " 2,\n",
       " 4,\n",
       " 7,\n",
       " 8,\n",
       " 11,\n",
       " 13,\n",
       " 14,\n",
       " 16,\n",
       " 17,\n",
       " 19,\n",
       " 22,\n",
       " 23,\n",
       " 26,\n",
       " 28,\n",
       " 29,\n",
       " 31,\n",
       " 32,\n",
       " 34,\n",
       " 37,\n",
       " 38,\n",
       " 41,\n",
       " 43,\n",
       " 44,\n",
       " 46,\n",
       " 47,\n",
       " 49,\n",
       " 52,\n",
       " 53,\n",
       " 56,\n",
       " 58,\n",
       " 59,\n",
       " 61,\n",
       " 62,\n",
       " 64,\n",
       " 67,\n",
       " 68,\n",
       " 71,\n",
       " 73,\n",
       " 74,\n",
       " 76,\n",
       " 77,\n",
       " 79,\n",
       " 82,\n",
       " 83,\n",
       " 86,\n",
       " 88,\n",
       " 89,\n",
       " 91,\n",
       " 92,\n",
       " 94,\n",
       " 97,\n",
       " 98]"
      ]
     },
     "execution_count": 19,
     "metadata": {},
     "output_type": "execute_result"
    }
   ],
   "source": [
    "#9 Use list comprehension para criar uma lista com os números de 1 a 100 excluindo os múltiplos de 3 e 5\n",
    "sem_multiplos_3_e_5 = [x for x in range(1,101) if (x % 3 != 0) and (x % 5 != 0)]\n",
    "sem_multiplos_3_e_5"
   ]
  },
  {
   "cell_type": "code",
   "execution_count": 21,
   "id": "017c3e88",
   "metadata": {},
   "outputs": [
    {
     "data": {
      "text/plain": [
       "[1,\n",
       " 16,\n",
       " 81,\n",
       " 256,\n",
       " 625,\n",
       " 1296,\n",
       " 2401,\n",
       " 4096,\n",
       " 6561,\n",
       " 10000,\n",
       " 14641,\n",
       " 20736,\n",
       " 28561,\n",
       " 38416,\n",
       " 50625,\n",
       " 65536,\n",
       " 83521,\n",
       " 104976,\n",
       " 130321,\n",
       " 160000]"
      ]
     },
     "execution_count": 21,
     "metadata": {},
     "output_type": "execute_result"
    }
   ],
   "source": [
    "#10 Use list comprehension para criar uma lista com os números de 1 a 20 elevados à quarta potência\n",
    "ao_4 = [x**4 for x in range(1,21)]\n",
    "ao_4"
   ]
  }
 ],
 "metadata": {
  "kernelspec": {
   "display_name": "Python 3 (ipykernel)",
   "language": "python",
   "name": "python3"
  },
  "language_info": {
   "codemirror_mode": {
    "name": "ipython",
    "version": 3
   },
   "file_extension": ".py",
   "mimetype": "text/x-python",
   "name": "python",
   "nbconvert_exporter": "python",
   "pygments_lexer": "ipython3",
   "version": "3.11.5"
  }
 },
 "nbformat": 4,
 "nbformat_minor": 5
}
