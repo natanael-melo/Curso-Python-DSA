{
 "cells": [
  {
   "cell_type": "markdown",
   "id": "1253c484",
   "metadata": {},
   "source": [
    "# Exercicios de *ZIP*"
   ]
  },
  {
   "cell_type": "markdown",
   "id": "9a313297",
   "metadata": {},
   "source": [
    "- #1 Use zip para combinar duas listas em uma lista de tuplas.\n",
    "- #2 Use zip para criar um dicionário a partir de duas listas: uma de chaves e outra de valores.\n",
    "- #3 Utilize zip para unir duas listas em uma lista de listas.\n",
    "- #4 Use zip para intercalar elementos de duas listas.\n",
    "- #5 Use zip para criar uma lista de pares de coordenadas (x, y) a partir de duas listas de coordenadas x e y.\n",
    "- #6 Utilize zip para combinar três listas em uma lista de tuplas tríplices.\n",
    "- #7 Use zip para criar uma lista de dicionários a partir de três listas: chaves, valores e descrições.\n",
    "- #8 Utilize zip para fundir duas listas em uma lista de strings concatenadas.\n",
    "- #9 Use zip para criar uma lista de pares ordenados (x, y, z) a partir de três listas.\n",
    "- #10 Use zip para encontrar a soma dos elementos correspondentes de três listas de números."
   ]
  },
  {
   "cell_type": "code",
   "execution_count": 2,
   "id": "b23512cd",
   "metadata": {},
   "outputs": [
    {
     "data": {
      "text/plain": [
       "[(1, 'a'), (2, 'b'), (3, 'c')]"
      ]
     },
     "execution_count": 2,
     "metadata": {},
     "output_type": "execute_result"
    }
   ],
   "source": [
    "#1 Use zip para combinar duas listas em uma lista de tuplas.\n",
    "lista1 = [1, 2, 3]\n",
    "lista2 = ['a', 'b', 'c']\n",
    "\n",
    "combinacao = list(zip(lista1, lista2))\n",
    "combinacao"
   ]
  },
  {
   "cell_type": "code",
   "execution_count": 3,
   "id": "5625d69e",
   "metadata": {},
   "outputs": [
    {
     "data": {
      "text/plain": [
       "{1: 'a', 2: 'b', 3: 'c'}"
      ]
     },
     "execution_count": 3,
     "metadata": {},
     "output_type": "execute_result"
    }
   ],
   "source": [
    "#2 Use zip para criar um dicionário a partir de duas listas: uma de chaves e outra de valores.\n",
    "lista1 = [1, 2, 3]\n",
    "lista2 = ['a', 'b', 'c']\n",
    "\n",
    "dicionario = dict(zip(lista1, lista2))\n",
    "dicionario"
   ]
  },
  {
   "cell_type": "code",
   "execution_count": 4,
   "id": "dc39a22c",
   "metadata": {},
   "outputs": [
    {
     "data": {
      "text/plain": [
       "[[1, 'a'], [2, 'b'], [3, 'c']]"
      ]
     },
     "execution_count": 4,
     "metadata": {},
     "output_type": "execute_result"
    }
   ],
   "source": [
    "#3 Utilize zip para unir duas listas em uma lista de listas\n",
    "lista1 = [1, 2, 3]\n",
    "lista2 = ['a', 'b', 'c']\n",
    "\n",
    "uniao = list(map(list, zip(lista1, lista2)))\n",
    "uniao"
   ]
  },
  {
   "cell_type": "code",
   "execution_count": 7,
   "id": "65c6a5cc",
   "metadata": {},
   "outputs": [
    {
     "data": {
      "text/plain": [
       "[1, 'a', 2, 'b', 3, 'c']"
      ]
     },
     "execution_count": 7,
     "metadata": {},
     "output_type": "execute_result"
    }
   ],
   "source": [
    "#4 Use zip para intercalar elementos de duas listas.\n",
    "lista1 = [1, 2, 3]\n",
    "lista2 = ['a', 'b', 'c']\n",
    "\n",
    "intercalados = [item for par in zip(lista1, lista2) for item in par] #não ententi\n",
    "intercalados"
   ]
  },
  {
   "cell_type": "code",
   "execution_count": 6,
   "id": "3cf4a567",
   "metadata": {},
   "outputs": [
    {
     "data": {
      "text/plain": [
       "[(1, 3), (2, 2), (3, 1)]"
      ]
     },
     "execution_count": 6,
     "metadata": {},
     "output_type": "execute_result"
    }
   ],
   "source": [
    "#5 Use zip para criar uma lista de pares de coordenadas (x, y) a partir de duas listas de coordenadas x e y.\n",
    "x = [1, 2, 3]\n",
    "y = [3, 2, 1]\n",
    "\n",
    "coordenadas = list(zip(x, y))\n",
    "coordenadas"
   ]
  },
  {
   "cell_type": "code",
   "execution_count": 8,
   "id": "92bdc347",
   "metadata": {},
   "outputs": [
    {
     "data": {
      "text/plain": [
       "[(1, 'a', 10), (2, 'b', 20), (3, 'c', 30)]"
      ]
     },
     "execution_count": 8,
     "metadata": {},
     "output_type": "execute_result"
    }
   ],
   "source": [
    "#6 Utilize zip para combinar três listas em uma lista de tuplas tríplices.\n",
    "lista1 = [1, 2, 3]\n",
    "lista2 = ['a', 'b', 'c']\n",
    "lista3 = [10, 20, 30]\n",
    "\n",
    "combinacao = list(zip(lista1, lista2, lista3))\n",
    "combinacao"
   ]
  },
  {
   "cell_type": "code",
   "execution_count": 11,
   "id": "e8ce152d",
   "metadata": {},
   "outputs": [
    {
     "data": {
      "text/plain": [
       "[{'chave': 'a', 'valor': 1, 'descricao': 'primeiro'},\n",
       " {'chave': 'b', 'valor': 2, 'descricao': 'segundo'},\n",
       " {'chave': 'c', 'valor': 3, 'descricao': 'terceiro'}]"
      ]
     },
     "execution_count": 11,
     "metadata": {},
     "output_type": "execute_result"
    }
   ],
   "source": [
    "#7 Use zip para criar uma lista de dicionários a partir de três listas: chaves, valores e descrições.\n",
    "chaves = ['a', 'b', 'c']\n",
    "valores = [1, 2, 3]\n",
    "descricoes = ['primeiro', 'segundo', 'terceiro']\n",
    "\n",
    "dicionario = [dict(zip(['chave', 'valor', 'descricao'], tupla)) for tupla in zip(chaves,valores,descricoes)]\n",
    "dicionario"
   ]
  },
  {
   "cell_type": "code",
   "execution_count": 13,
   "id": "5e7736e5",
   "metadata": {},
   "outputs": [
    {
     "data": {
      "text/plain": [
       "['1a', '2b', '3c']"
      ]
     },
     "execution_count": 13,
     "metadata": {},
     "output_type": "execute_result"
    }
   ],
   "source": [
    "#8 Utilize zip para fundir duas listas em uma lista de strings concatenadas\n",
    "lista1 = [1, 2, 3]\n",
    "lista2 = ['a', 'b', 'c']\n",
    "\n",
    "combinacao = [ str(x) + y for x, y in zip(lista1, lista2)]\n",
    "combinacao"
   ]
  },
  {
   "cell_type": "code",
   "execution_count": 14,
   "id": "848d2908",
   "metadata": {},
   "outputs": [
    {
     "data": {
      "text/plain": [
       "[(1, 2, 3), (4, 5, 6), (7, 8, 9)]"
      ]
     },
     "execution_count": 14,
     "metadata": {},
     "output_type": "execute_result"
    }
   ],
   "source": [
    "#9 Use zip para criar uma lista de pares ordenados (x, y, z) a partir de três listas.\n",
    "x = [1, 4, 7]\n",
    "y = [2, 5, 8]\n",
    "z = [3, 6, 9]\n",
    "\n",
    "coordenadas = list(zip(x, y, z))\n",
    "coordenadas"
   ]
  },
  {
   "cell_type": "code",
   "execution_count": 17,
   "id": "397d302c",
   "metadata": {},
   "outputs": [
    {
     "data": {
      "text/plain": [
       "[6, 15, 24, 33]"
      ]
     },
     "execution_count": 17,
     "metadata": {},
     "output_type": "execute_result"
    }
   ],
   "source": [
    "#10 Use zip para encontrar a soma dos elementos correspondentes de três listas de números.\n",
    "x = [1, 4, 7, 10]\n",
    "y = [2, 5, 8, 11]\n",
    "z = [3, 6, 9, 12]\n",
    "\n",
    "somas = [x + y + z for x, y, z in zip(x, y, z)]\n",
    "somas"
   ]
  }
 ],
 "metadata": {
  "kernelspec": {
   "display_name": "Python 3 (ipykernel)",
   "language": "python",
   "name": "python3"
  },
  "language_info": {
   "codemirror_mode": {
    "name": "ipython",
    "version": 3
   },
   "file_extension": ".py",
   "mimetype": "text/x-python",
   "name": "python",
   "nbconvert_exporter": "python",
   "pygments_lexer": "ipython3",
   "version": "3.11.5"
  }
 },
 "nbformat": 4,
 "nbformat_minor": 5
}
