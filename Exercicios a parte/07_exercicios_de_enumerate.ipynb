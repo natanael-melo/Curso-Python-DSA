{
 "cells": [
  {
   "cell_type": "markdown",
   "id": "3c3e2c27",
   "metadata": {},
   "source": [
    "# Exercicios de *ENUMERATE*"
   ]
  },
  {
   "cell_type": "markdown",
   "id": "b0386506",
   "metadata": {},
   "source": [
    "- #1 Use enumerate para criar uma lista de tuplas com índices e valores de uma lista.\n",
    "- #2 Use enumerate para criar uma lista de strings formatadas com o índice de cada elemento.\n",
    "- #3 Utilize enumerate para contar quantos elementos repetidos existem em uma lista.\n",
    "- #4 Use enumerate para criar um dicionário com índices como chaves e valores como os elementos da lista.\n",
    "- #5 Use enumerate para encontrar a média dos valores em uma lista, mas exclua os valores nas posições ímpares.\n",
    "- #6 Utilize enumerate para encontrar a posição do primeiro elemento igual a um valor específico em uma lista.\n",
    "- #7 Use enumerate para criar uma lista de pares (índice, valor) para todos os elementos negativos em uma lista.\n",
    "- #8 Utilize enumerate para criar uma lista de pares (índice, valor) para todos os elementos que são múltiplos de 3 em uma lista.\n",
    "- #9 Use enumerate para criar uma lista de pares (índice, valor) para todos os elementos que são palíndromos em uma lista de strings.\n",
    "- #10 Use enumerate para criar uma lista de tuplas com o índice e a soma acumulada dos elementos em uma lista."
   ]
  },
  {
   "cell_type": "code",
   "execution_count": 3,
   "id": "e5b67ca5",
   "metadata": {},
   "outputs": [
    {
     "data": {
      "text/plain": [
       "[(0, 10), (1, 20), (2, 30), (3, 40), (4, 50)]"
      ]
     },
     "execution_count": 3,
     "metadata": {},
     "output_type": "execute_result"
    }
   ],
   "source": [
    "#1 Use enumerate para criar uma lista de tuplas com índices e valores de uma lista.\n",
    "numeros = [10, 20, 30, 40, 50]\n",
    "\n",
    "enum = list(enumerate(numeros))\n",
    "enum"
   ]
  },
  {
   "cell_type": "code",
   "execution_count": 11,
   "id": "7a0980d9",
   "metadata": {},
   "outputs": [
    {
     "data": {
      "text/plain": [
       "['Índice 0: amora',\n",
       " 'Índice 1: maça',\n",
       " 'Índice 2: abacaxi',\n",
       " 'Índice 3: melancia',\n",
       " 'Índice 4: uva']"
      ]
     },
     "execution_count": 11,
     "metadata": {},
     "output_type": "execute_result"
    }
   ],
   "source": [
    "#2 Use enumerate para criar uma lista de strings formatadas com o índice de cada elemento.\n",
    "frutas = ['amora', 'maça', 'abacaxi', 'melancia', 'uva']\n",
    "\n",
    "lista = [f\"Índice {i}: {fruta}\" for i, fruta in enumerate(frutas)]\n",
    "lista"
   ]
  },
  {
   "cell_type": "code",
   "execution_count": 12,
   "id": "f382445f",
   "metadata": {},
   "outputs": [
    {
     "data": {
      "text/plain": [
       "3"
      ]
     },
     "execution_count": 12,
     "metadata": {},
     "output_type": "execute_result"
    }
   ],
   "source": [
    "#3 Utilize enumerate para contar quantos elementos repetidos existem em uma lista.\n",
    "elementos = [1, 2, 2, 3, 4, 4, 4, 5]\n",
    "\n",
    "contagem_repetidos = sum(1 for i, x in enumerate(elementos) if x in elementos[:i])\n",
    "contagem_repetidos"
   ]
  },
  {
   "cell_type": "code",
   "execution_count": 14,
   "id": "20c02389",
   "metadata": {},
   "outputs": [
    {
     "data": {
      "text/plain": [
       "{0: 'amora', 1: 'maça', 2: 'abacaxi', 3: 'melancia', 4: 'uva'}"
      ]
     },
     "execution_count": 14,
     "metadata": {},
     "output_type": "execute_result"
    }
   ],
   "source": [
    "#4 Use enumerate para criar um dicionário com índices como chaves e valores como os elementos da lista\n",
    "frutas = ['amora', 'maça', 'abacaxi', 'melancia', 'uva']\n",
    "\n",
    "dicionario = {i: x for i, x in enumerate(frutas)}\n",
    "dicionario"
   ]
  },
  {
   "cell_type": "code",
   "execution_count": 18,
   "id": "e3dbf91a",
   "metadata": {},
   "outputs": [
    {
     "data": {
      "text/plain": [
       "6.0"
      ]
     },
     "execution_count": 18,
     "metadata": {},
     "output_type": "execute_result"
    }
   ],
   "source": [
    "#5 Use enumerate para encontrar a média dos valores em uma lista, mas exclua os valores nas posições ímpares.\n",
    "lista = [x for x in range(1,11)]\n",
    "\n",
    "pares = [x for i, x in enumerate(lista) if x % 2 == 0]\n",
    "\n",
    "media = sum(pares)/len(pares)\n",
    "media"
   ]
  },
  {
   "cell_type": "code",
   "execution_count": 24,
   "id": "017f67f6",
   "metadata": {},
   "outputs": [
    {
     "name": "stdout",
     "output_type": "stream",
     "text": [
      "2\n"
     ]
    }
   ],
   "source": [
    "#6 Utilize enumerate para encontrar a posição do primeiro elemento igual a um valor específico em uma lista.\n",
    "elementos = [10, 20, 30, 40, 50]\n",
    "\n",
    "valor = 30\n",
    "\n",
    "posicao = next((i for i, x in enumerate(elementos) if x == valor), None)\n",
    "print(posicao)"
   ]
  },
  {
   "cell_type": "code",
   "execution_count": 25,
   "id": "28ca1245",
   "metadata": {},
   "outputs": [
    {
     "data": {
      "text/plain": [
       "[(1, -5), (3, -7), (5, -8), (8, -4)]"
      ]
     },
     "execution_count": 25,
     "metadata": {},
     "output_type": "execute_result"
    }
   ],
   "source": [
    "#7 Use enumerate para criar uma lista de pares (índice, valor) para todos os elementos negativos em uma lista\n",
    "numeros = [10, -5, 30, -7, 1, -8, 6, 3, -4]\n",
    "\n",
    "negativos = [(i, x) for i, x in enumerate(numeros) if x < 0]\n",
    "negativos"
   ]
  },
  {
   "cell_type": "code",
   "execution_count": 30,
   "id": "a00fcf05",
   "metadata": {},
   "outputs": [
    {
     "data": {
      "text/plain": [
       "[(0, 9), (3, 36), (6, 15), (7, 18)]"
      ]
     },
     "execution_count": 30,
     "metadata": {},
     "output_type": "execute_result"
    }
   ],
   "source": [
    "#8 Utilize enumerate para criar uma lista de pares (índice, valor) para todos os elementos que são múltiplos de 3 em uma lista.\n",
    "numeros = [9, 16, 25, 36, 49, 10, 15, 18]\n",
    "\n",
    "multiplos_3 = [(i, x) for i, x in enumerate(numeros) if x % 3 == 0]\n",
    "multiplos_3"
   ]
  },
  {
   "cell_type": "code",
   "execution_count": 32,
   "id": "37409a4a",
   "metadata": {},
   "outputs": [
    {
     "data": {
      "text/plain": [
       "[(0, 'radar'), (2, 'level'), (3, 'racecar'), (5, 'natan')]"
      ]
     },
     "execution_count": 32,
     "metadata": {},
     "output_type": "execute_result"
    }
   ],
   "source": [
    "#9 Use enumerate para criar uma lista de pares (índice, valor) para todos \n",
    "# os elementos que são palíndromos em uma lista de strings.\n",
    "palavras = [\"radar\", \"python\", \"level\", \"racecar\", \"algorithm\", \"natan\"]\n",
    "\n",
    "palindromos = [(i, palavra) for i, palavra in enumerate(palavras) if palavra == palavra[::-1]]\n",
    "palindromos"
   ]
  },
  {
   "cell_type": "code",
   "execution_count": 35,
   "id": "5bdf1722",
   "metadata": {},
   "outputs": [
    {
     "data": {
      "text/plain": [
       "[(0, 10), (1, 30), (2, 60), (3, 100), (4, 150)]"
      ]
     },
     "execution_count": 35,
     "metadata": {},
     "output_type": "execute_result"
    }
   ],
   "source": [
    "#10 Use enumerate para criar uma lista de tuplas com o índice e a soma acumulada dos elementos em uma lista.\n",
    "numeros = [10, 20, 30, 40, 50]\n",
    "\n",
    "soma_acumulada = list(enumerate([sum(numeros[:i+1]) for i in range(len(numeros))]))\n",
    "soma_acumulada"
   ]
  }
 ],
 "metadata": {
  "kernelspec": {
   "display_name": "Python 3 (ipykernel)",
   "language": "python",
   "name": "python3"
  },
  "language_info": {
   "codemirror_mode": {
    "name": "ipython",
    "version": 3
   },
   "file_extension": ".py",
   "mimetype": "text/x-python",
   "name": "python",
   "nbconvert_exporter": "python",
   "pygments_lexer": "ipython3",
   "version": "3.11.5"
  }
 },
 "nbformat": 4,
 "nbformat_minor": 5
}
