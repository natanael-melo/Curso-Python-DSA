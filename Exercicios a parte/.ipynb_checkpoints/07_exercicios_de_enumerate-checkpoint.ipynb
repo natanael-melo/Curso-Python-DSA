{
 "cells": [
  {
   "cell_type": "markdown",
   "id": "3c3e2c27",
   "metadata": {},
   "source": [
    "# Exercicios de *ENUMERATE*"
   ]
  },
  {
   "cell_type": "markdown",
   "id": "b0386506",
   "metadata": {},
   "source": [
    "- #1 Use enumerate para criar uma lista de tuplas com índices e valores de uma lista.\n",
    "- #2 Use enumerate para criar uma lista de strings formatadas com o índice de cada elemento.\n",
    "- #3 Utilize enumerate para contar quantos elementos repetidos existem em uma lista.\n",
    "- #4 Use enumerate para criar um dicionário com índices como chaves e valores como os elementos da lista.\n",
    "- #5 Use enumerate para encontrar a média dos valores em uma lista, mas exclua os valores nas posições ímpares.\n",
    "- #6 Utilize enumerate para encontrar a posição do primeiro elemento igual a um valor específico em uma lista.\n",
    "- #7 Use enumerate para criar uma lista de pares (índice, valor) para todos os elementos negativos em uma lista.\n",
    "- #8 Utilize enumerate para criar uma lista de pares (índice, valor) para todos os elementos que são múltiplos de 3 em uma lista.\n",
    "- #9 Use enumerate para criar uma lista de pares (índice, valor) para todos os elementos que são palíndromos em uma lista de strings.\n",
    "- #10 Use enumerate para criar uma lista de tuplas com o índice e a soma acumulada dos elementos em uma lista."
   ]
  },
  {
   "cell_type": "code",
   "execution_count": null,
   "id": "e5b67ca5",
   "metadata": {},
   "outputs": [],
   "source": [
    "#1 Use enumerate para criar uma lista de tuplas com índices e valores de uma lista."
   ]
  },
  {
   "cell_type": "code",
   "execution_count": null,
   "id": "284b0fab",
   "metadata": {},
   "outputs": [],
   "source": [
    "#2 Use enumerate para criar uma lista de strings formatadas com o índice de cada elemento."
   ]
  },
  {
   "cell_type": "code",
   "execution_count": null,
   "id": "bff81509",
   "metadata": {},
   "outputs": [],
   "source": [
    "#3 Utilize enumerate para contar quantos elementos repetidos existem em uma lista."
   ]
  },
  {
   "cell_type": "code",
   "execution_count": null,
   "id": "4f115f53",
   "metadata": {},
   "outputs": [],
   "source": [
    "#4 Use enumerate para criar um dicionário com índices como chaves e valores como os elementos da lista"
   ]
  },
  {
   "cell_type": "code",
   "execution_count": null,
   "id": "7f73ca88",
   "metadata": {},
   "outputs": [],
   "source": [
    "#5 Use enumerate para encontrar a média dos valores em uma lista, mas exclua os valores nas posições ímpares."
   ]
  },
  {
   "cell_type": "code",
   "execution_count": null,
   "id": "420330e1",
   "metadata": {},
   "outputs": [],
   "source": [
    "#6 Utilize enumerate para encontrar a posição do primeiro elemento igual a um valor específico em uma lista."
   ]
  },
  {
   "cell_type": "code",
   "execution_count": null,
   "id": "81a754ad",
   "metadata": {},
   "outputs": [],
   "source": [
    "#7 Use enumerate para criar uma lista de pares (índice, valor) para todos os elementos negativos em uma lista."
   ]
  },
  {
   "cell_type": "code",
   "execution_count": null,
   "id": "0b4338c3",
   "metadata": {},
   "outputs": [],
   "source": []
  },
  {
   "cell_type": "code",
   "execution_count": null,
   "id": "62e88929",
   "metadata": {},
   "outputs": [],
   "source": []
  },
  {
   "cell_type": "code",
   "execution_count": null,
   "id": "c00ecb2c",
   "metadata": {},
   "outputs": [],
   "source": []
  }
 ],
 "metadata": {
  "kernelspec": {
   "display_name": "Python 3 (ipykernel)",
   "language": "python",
   "name": "python3"
  },
  "language_info": {
   "codemirror_mode": {
    "name": "ipython",
    "version": 3
   },
   "file_extension": ".py",
   "mimetype": "text/x-python",
   "name": "python",
   "nbconvert_exporter": "python",
   "pygments_lexer": "ipython3",
   "version": "3.11.5"
  }
 },
 "nbformat": 4,
 "nbformat_minor": 5
}
