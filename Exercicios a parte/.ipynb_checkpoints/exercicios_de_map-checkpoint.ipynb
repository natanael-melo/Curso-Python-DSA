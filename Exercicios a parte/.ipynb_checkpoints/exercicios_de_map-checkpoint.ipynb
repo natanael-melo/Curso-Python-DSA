{
 "cells": [
  {
   "cell_type": "markdown",
   "id": "beca52de",
   "metadata": {},
   "source": [
    "# Exercicios de *MAP*"
   ]
  },
  {
   "cell_type": "markdown",
   "id": "3b61da51",
   "metadata": {},
   "source": [
    "- #1 Use map para dobrar os valores de uma lista.\n",
    "- #2 Use map para converter uma lista de strings em letras maiúsculas.\n",
    "- #3 Utilize map para arredondar todos os valores de uma lista para o inteiro mais próximo.\n",
    "- #4 Use map para calcular o comprimento de cada string em uma lista de strings.\n",
    "- #5 Use map para encontrar o cubo de todos os números em uma lista.\n",
    "- #6 Utilize map para converter uma lista de inteiros em uma lista de strings.\n",
    "- #7 Use map para aplicar uma função lambda que inverte uma string em uma lista de strings.\n",
    "- #8 Utilize map para calcular o quadrado de todos os números em uma lista.\n",
    "- #9 Use map para converter uma lista de Fahrenheit em Celsius.\n",
    "- #10 Use map para encontrar a raiz quadrada de todos os números em uma lista."
   ]
  },
  {
   "cell_type": "code",
   "execution_count": 1,
   "id": "d9ac4560",
   "metadata": {},
   "outputs": [
    {
     "data": {
      "text/plain": [
       "[2, 4, 6, 8, 10]"
      ]
     },
     "execution_count": 1,
     "metadata": {},
     "output_type": "execute_result"
    }
   ],
   "source": [
    "#1 Use map para dobrar os valores de uma lista.\n",
    "funcao = lambda x: x*2\n",
    "\n",
    "lista = [1, 2, 3, 4, 5]\n",
    " \n",
    "r = list(map(funcao, lista))\n",
    "r"
   ]
  },
  {
   "cell_type": "code",
   "execution_count": 2,
   "id": "dae5906d",
   "metadata": {},
   "outputs": [
    {
     "data": {
      "text/plain": [
       "['NATAN', 'TALITA', 'JUNO', 'KELLY']"
      ]
     },
     "execution_count": 2,
     "metadata": {},
     "output_type": "execute_result"
    }
   ],
   "source": [
    "#2 Use map para converter uma lista de strings em letras maiúsculas.\n",
    "funcao = lambda s: s.upper()\n",
    "\n",
    "lista =  ['natan', 'talita', 'juno', 'kelly']\n",
    " \n",
    "r = list(map(funcao, lista))\n",
    "r"
   ]
  },
  {
   "cell_type": "code",
   "execution_count": 3,
   "id": "944d8039",
   "metadata": {},
   "outputs": [
    {
     "data": {
      "text/plain": [
       "[1, 2, 3, 4, 5]"
      ]
     },
     "execution_count": 3,
     "metadata": {},
     "output_type": "execute_result"
    }
   ],
   "source": [
    "#3 Utilize map para arredondar todos os valores de uma lista para o inteiro mais próximo.\n",
    "funcao = lambda x: int(x)\n",
    "\n",
    "lista = [1.1, 2.2, 3.3, 4.4, 5.5]\n",
    " \n",
    "r = list(map(funcao, lista))\n",
    "r"
   ]
  },
  {
   "cell_type": "code",
   "execution_count": 4,
   "id": "0bac8b90",
   "metadata": {},
   "outputs": [
    {
     "data": {
      "text/plain": [
       "[5, 6, 4, 5]"
      ]
     },
     "execution_count": 4,
     "metadata": {},
     "output_type": "execute_result"
    }
   ],
   "source": [
    "#4 Use map para calcular o comprimento de cada string em uma lista de strings.\n",
    "funcao = lambda s: len(s)\n",
    "\n",
    "lista = ['natan', 'talita', 'juno', 'kelly']\n",
    "\n",
    "r = list(map(funcao, lista))\n",
    "r"
   ]
  },
  {
   "cell_type": "code",
   "execution_count": 5,
   "id": "228a143d",
   "metadata": {},
   "outputs": [
    {
     "data": {
      "text/plain": [
       "['1', '2', '3', '4', '5']"
      ]
     },
     "execution_count": 5,
     "metadata": {},
     "output_type": "execute_result"
    }
   ],
   "source": [
    "#6 Utilize map para converter uma lista de inteiros em uma lista de strings.\n",
    "funcao = lambda x: str(x)\n",
    "\n",
    "lista = [1, 2, 3, 4, 5]\n",
    " \n",
    "r = list(map(funcao, lista))\n",
    "r"
   ]
  },
  {
   "cell_type": "code",
   "execution_count": 6,
   "id": "6ccf11d5",
   "metadata": {},
   "outputs": [
    {
     "data": {
      "text/plain": [
       "['natan', 'atilat', 'onuj', 'yllek']"
      ]
     },
     "execution_count": 6,
     "metadata": {},
     "output_type": "execute_result"
    }
   ],
   "source": [
    "#7 Use map para aplicar uma função lambda que inverte uma string em uma lista de strings.\n",
    "funcao = lambda s: s[::-1]\n",
    "\n",
    "lista =  ['natan', 'talita', 'juno', 'kelly']\n",
    "\n",
    "r = list(map(funcao, lista))\n",
    "r"
   ]
  },
  {
   "cell_type": "code",
   "execution_count": 7,
   "id": "d16eb886",
   "metadata": {},
   "outputs": [
    {
     "data": {
      "text/plain": [
       "[1, 4, 9, 16, 25]"
      ]
     },
     "execution_count": 7,
     "metadata": {},
     "output_type": "execute_result"
    }
   ],
   "source": [
    "#8 Utilize map para calcular o quadrado de todos os números em uma lista.\n",
    "funcao = lambda x: x**2\n",
    "\n",
    "lista = [1, 2, 3, 4, 5]\n",
    " \n",
    "r = list(map(funcao, lista))\n",
    "r"
   ]
  },
  {
   "cell_type": "code",
   "execution_count": 8,
   "id": "b707e982",
   "metadata": {},
   "outputs": [
    {
     "data": {
      "text/plain": [
       "[0.0,\n",
       " 37.77777777777778,\n",
       " 52.77777777777778,\n",
       " 41.666666666666664,\n",
       " 46.111111111111114]"
      ]
     },
     "execution_count": 8,
     "metadata": {},
     "output_type": "execute_result"
    }
   ],
   "source": [
    "#9 Use map para converter uma lista de Fahrenheit em Celsius.\n",
    "funcao = lambda x: ((x - 32) * 5/9)\n",
    "\n",
    "lista = [32, 100, 127, 107, 115]\n",
    " \n",
    "r = list(map(funcao, lista))\n",
    "r"
   ]
  },
  {
   "cell_type": "code",
   "execution_count": 9,
   "id": "137e6049",
   "metadata": {},
   "outputs": [
    {
     "data": {
      "text/plain": [
       "[5.0, 10.0, 12.0, 11.0, 21.0]"
      ]
     },
     "execution_count": 9,
     "metadata": {},
     "output_type": "execute_result"
    }
   ],
   "source": [
    "#10 Use map para encontrar a raiz quadrada de todos os números em uma lista.\n",
    "from math import sqrt\n",
    "\n",
    "funcao = lambda x: sqrt(x)\n",
    "\n",
    "lista = [25, 100, 144, 121, 441]\n",
    " \n",
    "r = list(map(funcao, lista))\n",
    "r"
   ]
  }
 ],
 "metadata": {
  "kernelspec": {
   "display_name": "Python 3 (ipykernel)",
   "language": "python",
   "name": "python3"
  },
  "language_info": {
   "codemirror_mode": {
    "name": "ipython",
    "version": 3
   },
   "file_extension": ".py",
   "mimetype": "text/x-python",
   "name": "python",
   "nbconvert_exporter": "python",
   "pygments_lexer": "ipython3",
   "version": "3.11.5"
  }
 },
 "nbformat": 4,
 "nbformat_minor": 5
}
