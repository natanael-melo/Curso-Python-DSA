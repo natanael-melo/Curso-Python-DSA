{
 "cells": [
  {
   "cell_type": "markdown",
   "id": "e5ebdabd",
   "metadata": {},
   "source": [
    "# Converter um pseudocodigo em programa python"
   ]
  },
  {
   "cell_type": "markdown",
   "id": "ee28f544",
   "metadata": {},
   "source": [
    "# Pseudocodigo 1"
   ]
  },
  {
   "cell_type": "markdown",
   "id": "0f009b95",
   "metadata": {},
   "source": [
    "1. Inicialize as variáveis:\n",
    "   - base (comprimento da base do paralelograma)\n",
    "   - altura (altura do paralelograma)\n",
    "   - area (área do paralelograma)\n",
    "\n",
    "2. Leia o valor da base do paralelograma\n",
    "3. Leia o valor da altura do paralelograma\n",
    "\n",
    "4. Calcule a área do paralelograma:\n",
    "   - area = base * altura\n",
    "\n",
    "5. Imprima o valor da área:\n",
    "   - \"A área do paralelograma é: \" + area\n"
   ]
  },
  {
   "cell_type": "code",
   "execution_count": 1,
   "id": "442d4492",
   "metadata": {},
   "outputs": [
    {
     "name": "stdout",
     "output_type": "stream",
     "text": [
      "Bem Vindo a Calculadora de Área de Paralelograma\n"
     ]
    }
   ],
   "source": [
    "print('Bem Vindo a Calculadora de Área de Paralelograma')"
   ]
  },
  {
   "cell_type": "code",
   "execution_count": 10,
   "id": "950a94c0",
   "metadata": {},
   "outputs": [
    {
     "name": "stdout",
     "output_type": "stream",
     "text": [
      "Qual é a base do paralelograma: 4\n"
     ]
    }
   ],
   "source": [
    "base = float(input('Qual é a base do paralelograma: '))"
   ]
  },
  {
   "cell_type": "code",
   "execution_count": 11,
   "id": "c86bc358",
   "metadata": {},
   "outputs": [
    {
     "name": "stdout",
     "output_type": "stream",
     "text": [
      "Qual é a altura do paralelograma: 6\n"
     ]
    }
   ],
   "source": [
    "altura = float(input('Qual é a altura do paralelograma: '))"
   ]
  },
  {
   "cell_type": "code",
   "execution_count": 12,
   "id": "d337a838",
   "metadata": {},
   "outputs": [],
   "source": [
    "area = base * altura"
   ]
  },
  {
   "cell_type": "code",
   "execution_count": 13,
   "id": "09041003",
   "metadata": {},
   "outputs": [
    {
     "name": "stdout",
     "output_type": "stream",
     "text": [
      "A área do paralelograma é  24.0\n"
     ]
    }
   ],
   "source": [
    "print('A área do paralelograma é ', area)"
   ]
  },
  {
   "cell_type": "markdown",
   "id": "e74e5966",
   "metadata": {},
   "source": [
    "# Pseudocodigo 2 - Calculadora Simples"
   ]
  },
  {
   "cell_type": "markdown",
   "id": "3e0c219c",
   "metadata": {},
   "source": [
    "1. Inicialize as variáveis:\n",
    "   - numero1 (primeiro número para a operação)\n",
    "   - numero2 (segundo número para a operação)\n",
    "   - operacao (operação a ser realizada)\n",
    "   - resultado (resultado da operação)\n",
    "\n",
    "2. Leia o valor de numero1\n",
    "3. Leia o valor de numero2\n",
    "\n",
    "4. Leia a operação a ser realizada (por exemplo, +, -, *, /)\n",
    "\n",
    "5. Execute a operação selecionada:\n",
    "   - Se operacao for \"+\":\n",
    "     - resultado = numero1 + numero2\n",
    "   - Se operacao for \"-\":\n",
    "     - resultado = numero1 - numero2\n",
    "   - Se operacao for \"*\":\n",
    "     - resultado = numero1 * numero2\n",
    "   - Se operacao for \"/\":\n",
    "     - Se numero2 for diferente de zero:\n",
    "       - resultado = numero1 / numero2\n",
    "     - Senão:\n",
    "       - Imprima \"Divisão por zero não é permitida.\"\n",
    "\n",
    "6. Imprima o resultado da operação:\n",
    "   - \"Resultado: \" + resultado\n"
   ]
  },
  {
   "cell_type": "code",
   "execution_count": 23,
   "id": "b32f32b7",
   "metadata": {},
   "outputs": [
    {
     "name": "stdout",
     "output_type": "stream",
     "text": [
      "Digite o primeiro número: 9\n"
     ]
    }
   ],
   "source": [
    "x = int(input('Digite o primeiro número: '))"
   ]
  },
  {
   "cell_type": "code",
   "execution_count": 24,
   "id": "652ed262",
   "metadata": {},
   "outputs": [
    {
     "name": "stdout",
     "output_type": "stream",
     "text": [
      "Digite o segundo número: 11\n"
     ]
    }
   ],
   "source": [
    "y = int(input('Digite o segundo número: '))"
   ]
  },
  {
   "cell_type": "code",
   "execution_count": 29,
   "id": "9c6d30b3",
   "metadata": {},
   "outputs": [
    {
     "name": "stdout",
     "output_type": "stream",
     "text": [
      "Selecione a opração (+, -, *, /):*\n"
     ]
    }
   ],
   "source": [
    "op = str(input('Selecione a opração (+, -, *, /):'))"
   ]
  },
  {
   "cell_type": "code",
   "execution_count": 30,
   "id": "10a9d7ff",
   "metadata": {},
   "outputs": [
    {
     "name": "stdout",
     "output_type": "stream",
     "text": [
      "Resultado:  99\n"
     ]
    }
   ],
   "source": [
    "if op == '+':\n",
    "    r = x + y\n",
    "    print('Resultado: ', r)\n",
    "    \n",
    "elif op == '-':\n",
    "    r = x - y\n",
    "    print('Resultado: ', r)\n",
    "    \n",
    "elif op == '*':\n",
    "    r = x * y\n",
    "    print('Resultado: ', r)\n",
    "    \n",
    "elif op == '/':\n",
    "    r = x / y\n",
    "    print('Resultado: ', r)\n",
    "\n",
    "else:\n",
    "    print('Operação Invalida!!!')"
   ]
  },
  {
   "cell_type": "markdown",
   "id": "2f0b2a9b",
   "metadata": {},
   "source": [
    "# Pseudocigo 3 - Bubble Short"
   ]
  },
  {
   "cell_type": "code",
   "execution_count": 31,
   "id": "6b1c6ac1",
   "metadata": {},
   "outputs": [],
   "source": [
    "lista = [5,3,8,2,22,11,24,54,32,12,41,38,26,55,50,45]"
   ]
  },
  {
   "cell_type": "code",
   "execution_count": 32,
   "id": "0d48020a",
   "metadata": {},
   "outputs": [],
   "source": []
  },
  {
   "cell_type": "code",
   "execution_count": 39,
   "id": "00b9206b",
   "metadata": {},
   "outputs": [],
   "source": [
    "def bubble_short(arr):\n",
    "    \n",
    "    n = len(arr)\n",
    "\n",
    "    for i in range(n):\n",
    "        \n",
    "        for j in range(0, n-i-1):\n",
    "            \n",
    "            if arr[j] > arr[j+1]:\n",
    "                \n",
    "                arr[j], arr[j+1] = arr[j+1], arr[j]\n",
    "    \n",
    "    return arr"
   ]
  },
  {
   "cell_type": "code",
   "execution_count": 40,
   "id": "12311acd",
   "metadata": {},
   "outputs": [
    {
     "name": "stdout",
     "output_type": "stream",
     "text": [
      "[2, 3, 5, 8, 11, 12, 22, 24, 26, 32, 38, 41, 45, 50, 54, 55]\n"
     ]
    }
   ],
   "source": [
    "print(bubble_short(lista))"
   ]
  },
  {
   "cell_type": "code",
   "execution_count": null,
   "id": "abf35b90",
   "metadata": {},
   "outputs": [],
   "source": []
  }
 ],
 "metadata": {
  "kernelspec": {
   "display_name": "Python 3 (ipykernel)",
   "language": "python",
   "name": "python3"
  },
  "language_info": {
   "codemirror_mode": {
    "name": "ipython",
    "version": 3
   },
   "file_extension": ".py",
   "mimetype": "text/x-python",
   "name": "python",
   "nbconvert_exporter": "python",
   "pygments_lexer": "ipython3",
   "version": "3.11.5"
  }
 },
 "nbformat": 4,
 "nbformat_minor": 5
}
